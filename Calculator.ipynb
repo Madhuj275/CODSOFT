{
 "cells": [
  {
   "cell_type": "code",
   "execution_count": 1,
   "metadata": {},
   "outputs": [
    {
     "name": "stdout",
     "output_type": "stream",
     "text": [
      "Enter first number: 2\n",
      "Enter second number: 3\n",
      "Options:\n",
      "Enter 'add' for addition\n",
      "Enter 'subtract' for subtraction\n",
      "Enter 'multiply' for multiplication\n",
      "Enter 'divide' for division\n",
      "Enter 'exit' to end\n",
      " add\n",
      "Addition : 5.0\n",
      "Enter first number: 3\n",
      "Enter second number: 2\n",
      "Options:\n",
      "Enter 'add' for addition\n",
      "Enter 'subtract' for subtraction\n",
      "Enter 'multiply' for multiplication\n",
      "Enter 'divide' for division\n",
      "Enter 'exit' to end\n",
      " subtract\n",
      "subtract : 1.0\n",
      "Enter first number: 3\n",
      "Enter second number: 4\n",
      "Options:\n",
      "Enter 'add' for addition\n",
      "Enter 'subtract' for subtraction\n",
      "Enter 'multiply' for multiplication\n",
      "Enter 'divide' for division\n",
      "Enter 'exit' to end\n",
      " multiply\n",
      "Multiplication : 12.0\n",
      "Enter first number: 6\n",
      "Enter second number: 3\n",
      "Options:\n",
      "Enter 'add' for addition\n",
      "Enter 'subtract' for subtraction\n",
      "Enter 'multiply' for multiplication\n",
      "Enter 'divide' for division\n",
      "Enter 'exit' to end\n",
      " divide\n",
      "Division : 2.0\n",
      "Enter first number: 2\n",
      "Enter second number: 3\n",
      "Options:\n",
      "Enter 'add' for addition\n",
      "Enter 'subtract' for subtraction\n",
      "Enter 'multiply' for multiplication\n",
      "Enter 'divide' for division\n",
      "Enter 'exit' to end\n",
      " exit\n"
     ]
    }
   ],
   "source": [
    "while True:\n",
    "    x=float(input(\"Enter first number: \"))\n",
    "    y=float(input(\"Enter second number: \"))\n",
    "    print(\"Options:\")\n",
    "    print(\"Enter 'add' for addition\")\n",
    "    print(\"Enter 'subtract' for subtraction\")\n",
    "    print(\"Enter 'multiply' for multiplication\")\n",
    "    print(\"Enter 'divide' for division\")\n",
    "    print(\"Enter 'exit' to end\")\n",
    "    user_input = input(\" \")\n",
    "    \n",
    "    if user_input == \"exit\":\n",
    "        break\n",
    "    \n",
    "    if user_input in (\"add\", \"subtract\", \"multiply\", \"divide\"):\n",
    "        if user_input == \"add\":\n",
    "            print(\"Addition :\",x+y) \n",
    "        elif user_input == \"subtract\":\n",
    "            print(\"subtract :\",x-y)\n",
    "        elif user_input == \"multiply\":\n",
    "            print(\"Multiplication :\",x*y)\n",
    "        elif user_input == \"divide\":\n",
    "            print(\"Division :\",x/y)\n",
    "    else:\n",
    "        print(\"Invalid input. Please try again.\")"
   ]
  },
  {
   "cell_type": "code",
   "execution_count": null,
   "metadata": {},
   "outputs": [],
   "source": []
  }
 ],
 "metadata": {
  "kernelspec": {
   "display_name": "Python 3",
   "language": "python",
   "name": "python3"
  },
  "language_info": {
   "codemirror_mode": {
    "name": "ipython",
    "version": 3
   },
   "file_extension": ".py",
   "mimetype": "text/x-python",
   "name": "python",
   "nbconvert_exporter": "python",
   "pygments_lexer": "ipython3",
   "version": "3.7.10"
  }
 },
 "nbformat": 4,
 "nbformat_minor": 4
}
